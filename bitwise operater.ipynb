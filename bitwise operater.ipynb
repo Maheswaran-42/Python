{
 "cells": [
  {
   "cell_type": "code",
   "execution_count": 1,
   "id": "a6598d7f-5222-4043-a574-d49dcea5c949",
   "metadata": {},
   "outputs": [
    {
     "data": {
      "text/plain": [
       "2"
      ]
     },
     "execution_count": 1,
     "metadata": {},
     "output_type": "execute_result"
    }
   ],
   "source": [
    "## and operator\n",
    "a = 10\n",
    "b=7\n",
    "a1=a&b\n",
    "a1"
   ]
  },
  {
   "cell_type": "code",
   "execution_count": 2,
   "id": "d327608f-44a0-40b8-bcf2-51ad3c323e81",
   "metadata": {},
   "outputs": [
    {
     "data": {
      "text/plain": [
       "15"
      ]
     },
     "execution_count": 2,
     "metadata": {},
     "output_type": "execute_result"
    }
   ],
   "source": [
    "##or operator\n",
    "a2=a|b\n",
    "a2"
   ]
  },
  {
   "cell_type": "code",
   "execution_count": 4,
   "id": "b6bf1098-34d3-4d36-acc1-d1456e0bac3b",
   "metadata": {},
   "outputs": [
    {
     "data": {
      "text/plain": [
       "13"
      ]
     },
     "execution_count": 4,
     "metadata": {},
     "output_type": "execute_result"
    }
   ],
   "source": [
    "##XOR operator\n",
    "a3=a^b\n",
    "a3"
   ]
  },
  {
   "cell_type": "code",
   "execution_count": 5,
   "id": "ed93f031-f03d-4a17-8743-1a3ed02affd1",
   "metadata": {},
   "outputs": [
    {
     "data": {
      "text/plain": [
       "-11"
      ]
     },
     "execution_count": 5,
     "metadata": {},
     "output_type": "execute_result"
    }
   ],
   "source": [
    "##one's complement operator\n",
    "a4=~a\n",
    "a4"
   ]
  },
  {
   "cell_type": "code",
   "execution_count": 6,
   "id": "d17f5c64-c145-4c57-bb24-47b28de11c4c",
   "metadata": {},
   "outputs": [
    {
     "data": {
      "text/plain": [
       "2"
      ]
     },
     "execution_count": 6,
     "metadata": {},
     "output_type": "execute_result"
    }
   ],
   "source": [
    "##right shift operator \n",
    "a5=a>>2\n",
    "a5 "
   ]
  },
  {
   "cell_type": "code",
   "execution_count": 7,
   "id": "48c55e5e-b6d7-4c4d-81ff-b814676197ad",
   "metadata": {},
   "outputs": [
    {
     "data": {
      "text/plain": [
       "40"
      ]
     },
     "execution_count": 7,
     "metadata": {},
     "output_type": "execute_result"
    }
   ],
   "source": [
    "##left shift operator\n",
    "a6=a<<2\n",
    "a6"
   ]
  },
  {
   "cell_type": "code",
   "execution_count": null,
   "id": "addcd7b2-e7e9-4e5d-b3de-91734d277280",
   "metadata": {},
   "outputs": [],
   "source": []
  }
 ],
 "metadata": {
  "kernelspec": {
   "display_name": "Python 3 (ipykernel)",
   "language": "python",
   "name": "python3"
  },
  "language_info": {
   "codemirror_mode": {
    "name": "ipython",
    "version": 3
   },
   "file_extension": ".py",
   "mimetype": "text/x-python",
   "name": "python",
   "nbconvert_exporter": "python",
   "pygments_lexer": "ipython3",
   "version": "3.12.7"
  }
 },
 "nbformat": 4,
 "nbformat_minor": 5
}
