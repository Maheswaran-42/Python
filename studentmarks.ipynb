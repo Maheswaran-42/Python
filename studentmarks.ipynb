{
 "cells": [
  {
   "cell_type": "code",
   "execution_count": 1,
   "id": "aecefa91-fb8d-48e8-a441-eaabd4119f16",
   "metadata": {},
   "outputs": [
    {
     "name": "stdin",
     "output_type": "stream",
     "text": [
      "Enter your marks: 99\n"
     ]
    },
    {
     "name": "stdout",
     "output_type": "stream",
     "text": [
      "Grade A\n"
     ]
    }
   ],
   "source": [
    "a=int(input(\"Enter your marks:\"))\n",
    "if(a>90):\n",
    " print(\"Grade A\")\n",
    "elif(a>80):\n",
    " print(\"Grade B\")\n",
    "elif(a>70):\n",
    "        print(\"Grade C\")\n",
    "elif(a>60):\n",
    "        print(\"Grade D\")\n",
    "elif(a>50):\n",
    "        print(\"Grade E\")\n",
    "else:\n",
    "        print(\"Grade F\")\n",
    "    \n"
   ]
  },
  {
   "cell_type": "code",
   "execution_count": null,
   "id": "f343b52c-b0f4-4c77-97c6-11e419fc4009",
   "metadata": {},
   "outputs": [],
   "source": []
  }
 ],
 "metadata": {
  "kernelspec": {
   "display_name": "Python 3 (ipykernel)",
   "language": "python",
   "name": "python3"
  },
  "language_info": {
   "codemirror_mode": {
    "name": "ipython",
    "version": 3
   },
   "file_extension": ".py",
   "mimetype": "text/x-python",
   "name": "python",
   "nbconvert_exporter": "python",
   "pygments_lexer": "ipython3",
   "version": "3.12.7"
  }
 },
 "nbformat": 4,
 "nbformat_minor": 5
}
