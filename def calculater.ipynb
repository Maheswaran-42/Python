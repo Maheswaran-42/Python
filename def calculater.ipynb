{
 "cells": [
  {
   "cell_type": "code",
   "execution_count": 1,
   "id": "66da7844-6b20-4b51-8e27-544352ecb1c6",
   "metadata": {},
   "outputs": [
    {
     "name": "stdout",
     "output_type": "stream",
     "text": [
      "6 2 8 2.0\n"
     ]
    }
   ],
   "source": [
    "def add(a,b):\n",
    "    c=a+b\n",
    "    return c\n",
    "k=add(4,2)\n",
    "def sub (a,b):\n",
    "    c=a-b\n",
    "    return c\n",
    "k1=sub(4,2)\n",
    "def mul (a,b):\n",
    "    c=a*b\n",
    "    return c\n",
    "k2=mul(4,2)\n",
    "def div (a,b):\n",
    "    c=a/b\n",
    "    return c\n",
    "k3=div(4,2)\n",
    "print(k,k1,k2,k3)"
   ]
  },
  {
   "cell_type": "code",
   "execution_count": 2,
   "id": "f13e0977-6e55-47bf-a51d-7984c05510d4",
   "metadata": {},
   "outputs": [
    {
     "name": "stdout",
     "output_type": "stream",
     "text": [
      "6\n"
     ]
    }
   ],
   "source": [
    "def add(a,b):\n",
    "    c=a+b\n",
    "    return c\n",
    "k=add(4,2)\n",
    "print(k)"
   ]
  },
  {
   "cell_type": "code",
   "execution_count": 3,
   "id": "bd1449f5-610e-4bc0-ad39-1be364ba6e2c",
   "metadata": {},
   "outputs": [
    {
     "name": "stdout",
     "output_type": "stream",
     "text": [
      "<function dsce at 0x000002011F618540>\n"
     ]
    }
   ],
   "source": [
    "l1=[12,3432,5666,3,1]\n",
    "def dsce(l1):\n",
    " b = []\n",
    "    \n",
    "print (dsce)  \n"
   ]
  },
  {
   "cell_type": "code",
   "execution_count": 4,
   "id": "c3d7b08a-a891-4dca-ba12-4085b875756c",
   "metadata": {},
   "outputs": [
    {
     "name": "stdin",
     "output_type": "stream",
     "text": [
      "enter a num 1 4\n",
      "enter the operation: +\n",
      "enter a num 2 2\n"
     ]
    },
    {
     "ename": "TypeError",
     "evalue": "unsupported operand type(s) for +: 'int' and 'str'",
     "output_type": "error",
     "traceback": [
      "\u001b[1;31m---------------------------------------------------------------------------\u001b[0m",
      "\u001b[1;31mTypeError\u001b[0m                                 Traceback (most recent call last)",
      "Cell \u001b[1;32mIn[4], line 8\u001b[0m\n\u001b[0;32m      6\u001b[0m      d\u001b[38;5;241m=\u001b[39ma\u001b[38;5;241m+\u001b[39mb\n\u001b[0;32m      7\u001b[0m      \u001b[38;5;28;01mreturn\u001b[39;00m d\n\u001b[1;32m----> 8\u001b[0m k1\u001b[38;5;241m=\u001b[39madd(a,b)\n\u001b[0;32m      9\u001b[0m \u001b[38;5;28;01mdef\u001b[39;00m \u001b[38;5;21msub\u001b[39m (a,b):\n\u001b[0;32m     10\u001b[0m     d\u001b[38;5;241m=\u001b[39ma\u001b[38;5;241m-\u001b[39mb\n",
      "Cell \u001b[1;32mIn[4], line 6\u001b[0m, in \u001b[0;36madd\u001b[1;34m(a, b)\u001b[0m\n\u001b[0;32m      5\u001b[0m \u001b[38;5;28;01mdef\u001b[39;00m \u001b[38;5;21madd\u001b[39m(a,b):\n\u001b[1;32m----> 6\u001b[0m     d\u001b[38;5;241m=\u001b[39ma\u001b[38;5;241m+\u001b[39mb\n\u001b[0;32m      7\u001b[0m     \u001b[38;5;28;01mreturn\u001b[39;00m d\n",
      "\u001b[1;31mTypeError\u001b[0m: unsupported operand type(s) for +: 'int' and 'str'"
     ]
    }
   ],
   "source": [
    "a=int(input(\"enter a num 1\"))\n",
    "b=input(\"enter the operation:\")\n",
    "c=int(input(\"enter a num 2\"))\n",
    "if b== \"+\":\n",
    " def add(a,b):\n",
    "     d=a+b\n",
    "     return d\n",
    "k1=add(a,b)\n",
    "def sub (a,b):\n",
    "    d=a-b\n",
    "    return d\n",
    "k2=sub(a,c)\n",
    "def mul (a,b):\n",
    "    d=a*b\n",
    "    return c\n",
    "k3=mul(a,c)\n",
    "def div (a,b):\n",
    "    d=a/b\n",
    "    return c\n",
    "k4=div(a,c)\n",
    "\n",
    "print(add,sub,mul,div)"
   ]
  },
  {
   "cell_type": "code",
   "execution_count": 5,
   "id": "fa5af672-fd3f-4348-bd15-64f0fab23595",
   "metadata": {},
   "outputs": [
    {
     "name": "stdin",
     "output_type": "stream",
     "text": [
      "enter a num 1 4\n",
      "enter the operation: +\n",
      "enter a num 2 2\n"
     ]
    },
    {
     "ename": "TypeError",
     "evalue": "unsupported operand type(s) for +: 'int' and 'str'",
     "output_type": "error",
     "traceback": [
      "\u001b[1;31m---------------------------------------------------------------------------\u001b[0m",
      "\u001b[1;31mTypeError\u001b[0m                                 Traceback (most recent call last)",
      "Cell \u001b[1;32mIn[5], line 8\u001b[0m\n\u001b[0;32m      6\u001b[0m        d\u001b[38;5;241m=\u001b[39ma\u001b[38;5;241m+\u001b[39mb\n\u001b[0;32m      7\u001b[0m        \u001b[38;5;28mprint\u001b[39m(d)\n\u001b[1;32m----> 8\u001b[0m add(a,b)\n",
      "Cell \u001b[1;32mIn[5], line 6\u001b[0m, in \u001b[0;36madd\u001b[1;34m(a, b)\u001b[0m\n\u001b[0;32m      4\u001b[0m \u001b[38;5;28;01mdef\u001b[39;00m \u001b[38;5;21madd\u001b[39m(a,b):\n\u001b[0;32m      5\u001b[0m     \u001b[38;5;28;01mif\u001b[39;00m b \u001b[38;5;241m==\u001b[39m \u001b[38;5;124m'\u001b[39m\u001b[38;5;124m+\u001b[39m\u001b[38;5;124m'\u001b[39m:\n\u001b[1;32m----> 6\u001b[0m        d\u001b[38;5;241m=\u001b[39ma\u001b[38;5;241m+\u001b[39mb\n\u001b[0;32m      7\u001b[0m        \u001b[38;5;28mprint\u001b[39m(d)\n",
      "\u001b[1;31mTypeError\u001b[0m: unsupported operand type(s) for +: 'int' and 'str'"
     ]
    }
   ],
   "source": [
    "a=int(input(\"enter a num 1\"))\n",
    "b=input(\"enter the operation:\")\n",
    "c=int(input(\"enter a num 2\"))\n",
    "def add(a,b):\n",
    "    if b == '+':\n",
    "       d=a+b\n",
    "       print(d)\n",
    "add(a,b)"
   ]
  },
  {
   "cell_type": "code",
   "execution_count": 6,
   "id": "904070e0-0085-4da6-af42-7b862ab86072",
   "metadata": {},
   "outputs": [
    {
     "name": "stdin",
     "output_type": "stream",
     "text": [
      "enter a num 1 4\n",
      "enter the operation: +\n",
      "enter a num 2 2\n"
     ]
    },
    {
     "data": {
      "text/plain": [
       "(6, 2, 8, 2.0)"
      ]
     },
     "execution_count": 6,
     "metadata": {},
     "output_type": "execute_result"
    }
   ],
   "source": [
    "a=int(input(\"enter a num 1\"))\n",
    "b=input(\"enter the operation:\")\n",
    "c=int(input(\"enter a num 2\"))\n",
    "if b== \"+\":\n",
    " def add(a,c):\n",
    "     d=a+c\n",
    "     return d\n",
    "elif b==\"-\":\n",
    " def sub(a,c):\n",
    "     d=a-c\n",
    "     return d\n",
    "elif b==\"*\":\n",
    " def mul(a,c):\n",
    "     d=a*c\n",
    "     return d\n",
    "elif b==\"/\":\n",
    " def div(a,c):\n",
    "     d=a/c\n",
    "     return d\n",
    "add(a,c),sub(a,c),mul(a,c),div(a,c)"
   ]
  },
  {
   "cell_type": "code",
   "execution_count": null,
   "id": "e5682b30-f8a4-406f-91bc-7cc5f2b9a965",
   "metadata": {},
   "outputs": [],
   "source": [
    "a=int(input(\"enter a num 1: \"))\n",
    "b=input(\"enter the operation: (+,-,*,/) \")\n",
    "c=int(input(\"enter a num 2: \"))\n",
    "def num(a,c):\n",
    "  if b==\"+\":\n",
    "     d=a+c\n",
    "     return d\n",
    "  elif b==\"-\":\n",
    "     d=a-c\n",
    "     return d\n",
    "  elif b==\"*\":\n",
    "     d=a*c\n",
    "     return d\n",
    "  elif b==\"/\":\n",
    "     d=a/c\n",
    "     return d\n",
    "  else:\n",
    "      print(\"invalid operation\")\n",
    "result = num(a,c)\n",
    "print(\"result: \",result)\n"
   ]
  },
  {
   "cell_type": "code",
   "execution_count": 8,
   "id": "5dc0393b-d1b2-4a9b-b400-2413d6c08d72",
   "metadata": {},
   "outputs": [
    {
     "name": "stdin",
     "output_type": "stream",
     "text": [
      "enter a num 1 4\n",
      "enter the operation: *\n",
      "enter a num 2 2\n"
     ]
    },
    {
     "data": {
      "text/plain": [
       "(None, None, 8, None)"
      ]
     },
     "execution_count": 8,
     "metadata": {},
     "output_type": "execute_result"
    }
   ],
   "source": [
    "a=int(input(\"enter a num 1\"))\n",
    "b=input(\"enter the operation:\")\n",
    "c=int(input(\"enter a num 2\"))\n",
    "def add(a,c):\n",
    "    if b==\"+\":\n",
    "     d=a+c\n",
    "     return d\n",
    "\n",
    "def sub(a,c):\n",
    "    if b==\"-\":\n",
    "     d=a-c\n",
    "     return d\n",
    "\n",
    "def mul(a,c):\n",
    "    if b==\"*\":\n",
    "     d=a*c\n",
    "     return d\n",
    "\n",
    "def div(a,c):\n",
    "    if b==\"/\":\n",
    "     d=a/c\n",
    "     return d\n",
    "    \n",
    "add(a,c),sub(a,c),mul(a,c),div(a,c)"
   ]
  },
  {
   "cell_type": "code",
   "execution_count": 1,
   "id": "7a090be9-30db-44db-b8ae-47224eee6b96",
   "metadata": {},
   "outputs": [
    {
     "name": "stdin",
     "output_type": "stream",
     "text": [
      "Enter num 1:  40\n",
      "Enter the operation (+, -, *, /):  +\n",
      "Enter num 2:  20\n"
     ]
    },
    {
     "name": "stdout",
     "output_type": "stream",
     "text": [
      "Result: 60\n"
     ]
    }
   ],
   "source": [
    "a = int(input(\"Enter num 1: \"))\n",
    "b = input(\"Enter the operation (+, -, *, /): \")\n",
    "c = int(input(\"Enter num 2: \"))\n",
    "def add(a, c):\n",
    "    return a + c\n",
    "def sub(a, c):\n",
    "    return a - c\n",
    "def mul(a, c):\n",
    "    return a * c\n",
    "def div(a, c):\n",
    "    if c != 0:\n",
    "        return a / c\n",
    "    else:\n",
    "        return \"Cannot divide by zero\"\n",
    "if b == \"+\":\n",
    "    print(\"Result:\", add(a, c))\n",
    "elif b == \"-\":\n",
    "    print(\"Result:\", sub(a, c))\n",
    "elif b == \"*\":\n",
    "    print(\"Result:\", mul(a, c))\n",
    "elif b == \"/\":\n",
    "    print(\"Result:\", div(a, c))\n",
    "else:\n",
    "    print(\"Invalid operation\")\n"
   ]
  },
  {
   "cell_type": "code",
   "execution_count": null,
   "id": "81d28e81-4556-4f5e-8706-ca69a713e71e",
   "metadata": {},
   "outputs": [],
   "source": [
    "try:\n",
    "    a=int(input(\"enter the number 1: \"))\n",
    "    b=input(\"enter the operation (+,-,*,/): \")\n",
    "    c=int(input(\"enter the number 2: \"))\n",
    "    def add(a,c):\n",
    "        return a+c\n",
    "    def sub(a,c):\n",
    "        return a-c\n",
    "    def mul(a,c):\n",
    "        return a*c\n",
    "    def div(a,c):\n",
    "        return a/c\n",
    "    if b== \"+\":\n",
    "        print(\"result: \",add(a,c))\n",
    "    elif b== \"-\":\n",
    "        print(\"result: \",sub(a,c))\n",
    "    elif b== \"*\":\n",
    "        print(\"result: \",mul(a,c))\n",
    "    elif b== \"/\":\n",
    "        print(\"result: \",div(a,c))\n",
    "    else:\n",
    "        print(\"invalid operation\")\n",
    "except Exception as mk:\n",
    "    print(mk)"
   ]
  },
  {
   "cell_type": "code",
   "execution_count": null,
   "id": "a01407ee-e8ea-41e0-ba84-6bd5ad030145",
   "metadata": {},
   "outputs": [],
   "source": [
    " "
   ]
  }
 ],
 "metadata": {
  "kernelspec": {
   "display_name": "Python 3 (ipykernel)",
   "language": "python",
   "name": "python3"
  },
  "language_info": {
   "codemirror_mode": {
    "name": "ipython",
    "version": 3
   },
   "file_extension": ".py",
   "mimetype": "text/x-python",
   "name": "python",
   "nbconvert_exporter": "python",
   "pygments_lexer": "ipython3",
   "version": "3.12.7"
  }
 },
 "nbformat": 4,
 "nbformat_minor": 5
}
