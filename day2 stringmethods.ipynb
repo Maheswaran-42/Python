{
 "cells": [
  {
   "cell_type": "code",
   "execution_count": 2,
   "id": "07cfe61c-61f0-4590-aa5b-701d6ba75af0",
   "metadata": {},
   "outputs": [
    {
     "name": "stdout",
     "output_type": "stream",
     "text": [
      "00000mahes\n"
     ]
    }
   ],
   "source": [
    "a=\"mahes\"\n",
    "print(a.zfill(10))"
   ]
  },
  {
   "cell_type": "code",
   "execution_count": 3,
   "id": "6f1385e8-109a-44ed-bfca-4f92af553293",
   "metadata": {},
   "outputs": [
    {
     "name": "stdout",
     "output_type": "stream",
     "text": [
      "MAHES\n"
     ]
    }
   ],
   "source": [
    "print(a.upper()) ## change in uppercase letter"
   ]
  },
  {
   "cell_type": "code",
   "execution_count": 5,
   "id": "105812f2-125c-451d-8546-1aacf190f1ee",
   "metadata": {},
   "outputs": [
    {
     "name": "stdout",
     "output_type": "stream",
     "text": [
      "mahes\n"
     ]
    }
   ],
   "source": [
    "print(a.lower()) ## change in lowercase letter"
   ]
  },
  {
   "cell_type": "code",
   "execution_count": 6,
   "id": "2823fdae-ec0a-4439-96ad-0e1c50b7cb90",
   "metadata": {},
   "outputs": [
    {
     "name": "stdout",
     "output_type": "stream",
     "text": [
      "Mahes Waran\n"
     ]
    }
   ],
   "source": [
    "a1=\"mahes waran\"\n",
    "print(a1.title())# change first letter of a word in uppercase"
   ]
  },
  {
   "cell_type": "code",
   "execution_count": 7,
   "id": "1195f340-cc16-4da9-81e5-bb227e71297c",
   "metadata": {},
   "outputs": [
    {
     "name": "stdout",
     "output_type": "stream",
     "text": [
      "Mahes waran\n"
     ]
    }
   ],
   "source": [
    "print(a1.capitalize())# change first letter of a word in a string"
   ]
  },
  {
   "cell_type": "code",
   "execution_count": 9,
   "id": "f222f442-a312-47a2-bd4c-88629d3d5050",
   "metadata": {},
   "outputs": [
    {
     "name": "stdout",
     "output_type": "stream",
     "text": [
      "mahes\n"
     ]
    }
   ],
   "source": [
    "a2=\"  mahes  \"\n",
    "print(a2.strip())#cut the extra in starting and ending"
   ]
  },
  {
   "cell_type": "code",
   "execution_count": 10,
   "id": "39295cfa-55f7-49fb-a57e-e5674d46d2a7",
   "metadata": {},
   "outputs": [
    {
     "name": "stdout",
     "output_type": "stream",
     "text": [
      "mahes  \n"
     ]
    }
   ],
   "source": [
    "print(a2.lstrip())#cut the extra space in left side alone"
   ]
  },
  {
   "cell_type": "code",
   "execution_count": 11,
   "id": "4138074f-5f85-4341-9f2b-83419ac76332",
   "metadata": {},
   "outputs": [
    {
     "name": "stdout",
     "output_type": "stream",
     "text": [
      "  mahes\n"
     ]
    }
   ],
   "source": [
    "print(a2.rstrip())##cut the extra space in right side alone"
   ]
  },
  {
   "cell_type": "code",
   "execution_count": 12,
   "id": "55a4c653-64e7-4c19-95a4-454d14884d24",
   "metadata": {},
   "outputs": [
    {
     "name": "stdout",
     "output_type": "stream",
     "text": [
      "mzhes wzrzn\n"
     ]
    }
   ],
   "source": [
    "print(a1.replace(\"a\",\"z\"))# change the letter a in the place as z"
   ]
  },
  {
   "cell_type": "code",
   "execution_count": 13,
   "id": "5b8f1d04-10cb-425a-a4e7-348e42cdcc3c",
   "metadata": {},
   "outputs": [
    {
     "name": "stdout",
     "output_type": "stream",
     "text": [
      "['mahes', 'waran']\n"
     ]
    }
   ],
   "source": [
    "print(a1.split()) #split the word intho two other string"
   ]
  },
  {
   "cell_type": "code",
   "execution_count": 4,
   "id": "0026d77b-1651-497e-bb06-397f6b24f643",
   "metadata": {},
   "outputs": [
    {
     "name": "stdout",
     "output_type": "stream",
     "text": [
      "mahes,waran\n"
     ]
    }
   ],
   "source": [
    "a3=[\"mahes\",\"waran\"]\n",
    "print(\",\".join(a3))#join list into string"
   ]
  },
  {
   "cell_type": "code",
   "execution_count": 19,
   "id": "fe3b2727-7e2f-40da-a6dc-53997af97f06",
   "metadata": {},
   "outputs": [
    {
     "name": "stdout",
     "output_type": "stream",
     "text": [
      "1\n"
     ]
    }
   ],
   "source": [
    "print(a1.count(\"h\"))#count how many h in letter"
   ]
  },
  {
   "cell_type": "code",
   "execution_count": 10,
   "id": "d6731142-ade4-4b27-8734-8bdd1c2b9673",
   "metadata": {},
   "outputs": [
    {
     "name": "stdout",
     "output_type": "stream",
     "text": [
      "0\n"
     ]
    }
   ],
   "source": [
    "m=\"maheswaran\"\n",
    "print(m.find(m))#Finds the index of the first occurrence of the substring."
   ]
  },
  {
   "cell_type": "code",
   "execution_count": 14,
   "id": "0ea8b889-fd80-45ae-ad36-064fd67c117c",
   "metadata": {},
   "outputs": [
    {
     "name": "stdout",
     "output_type": "stream",
     "text": [
      "False\n",
      "False\n"
     ]
    }
   ],
   "source": [
    "print(m.startswith(\"war\"))\n",
    "#Checks if string starts or ends with a value\n",
    "print(m.endswith(\"mah\"))"
   ]
  },
  {
   "cell_type": "code",
   "execution_count": 15,
   "id": "d7433f68-3fa9-41cf-883b-c6e31c83c73c",
   "metadata": {},
   "outputs": [
    {
     "name": "stdout",
     "output_type": "stream",
     "text": [
      "True\n"
     ]
    }
   ],
   "source": [
    "print(m.isalpha())#check the value is full of alphapets or not"
   ]
  },
  {
   "cell_type": "code",
   "execution_count": 17,
   "id": "451d4882-1896-42f0-9731-4cadc299bbcd",
   "metadata": {},
   "outputs": [
    {
     "name": "stdout",
     "output_type": "stream",
     "text": [
      "False\n"
     ]
    }
   ],
   "source": [
    "print(m.isdigit())# check the value is full of numbers"
   ]
  },
  {
   "cell_type": "code",
   "execution_count": 18,
   "id": "fe5a3e01-059e-424a-a081-0b66409a6041",
   "metadata": {},
   "outputs": [
    {
     "name": "stdout",
     "output_type": "stream",
     "text": [
      "True\n"
     ]
    }
   ],
   "source": [
    "print(m.isalnum())#check the string if num or alphabets are there"
   ]
  },
  {
   "cell_type": "code",
   "execution_count": 19,
   "id": "842bbcc1-572f-4987-bf8d-12f5d0c579c4",
   "metadata": {},
   "outputs": [
    {
     "name": "stdout",
     "output_type": "stream",
     "text": [
      "MAHESWARAN\n"
     ]
    }
   ],
   "source": [
    "print(m.swapcase())#change the string lowercase to uppercase or uppercase to lowercase"
   ]
  },
  {
   "cell_type": "code",
   "execution_count": 22,
   "id": "37326a27-084e-4c16-87f1-f6e2202bd5dd",
   "metadata": {},
   "outputs": [
    {
     "name": "stdout",
     "output_type": "stream",
     "text": [
      "maheswaran     \n"
     ]
    }
   ],
   "source": [
    "print(m.ljust(15))# left side 5  spaces can be added"
   ]
  },
  {
   "cell_type": "code",
   "execution_count": 23,
   "id": "76b71d96-1988-4314-8f83-f06e31057ad2",
   "metadata": {},
   "outputs": [
    {
     "name": "stdout",
     "output_type": "stream",
     "text": [
      "     maheswaran\n"
     ]
    }
   ],
   "source": [
    "print(m.rjust(15))#right side 5 spaces can be addes"
   ]
  },
  {
   "cell_type": "code",
   "execution_count": 24,
   "id": "f7a82e99-9f58-46ba-ba01-50207edbd22e",
   "metadata": {},
   "outputs": [
    {
     "name": "stdout",
     "output_type": "stream",
     "text": [
      "   maheswaran  \n"
     ]
    }
   ],
   "source": [
    "print(m.center(15))#in right and left side spaces are added"
   ]
  },
  {
   "cell_type": "code",
   "execution_count": 25,
   "id": "226ac4de-fd34-46bf-9ab5-0c417a8bf087",
   "metadata": {},
   "outputs": [
    {
     "name": "stdout",
     "output_type": "stream",
     "text": [
      "('ma', 'h', 'eswaran')\n"
     ]
    }
   ],
   "source": [
    "print(m.partition(\"h\")) # split the string into three parts "
   ]
  },
  {
   "cell_type": "code",
   "execution_count": 4,
   "id": "134d2aac-661b-42f6-831e-ff390d107c5e",
   "metadata": {},
   "outputs": [
    {
     "name": "stdout",
     "output_type": "stream",
     "text": [
      "es\n"
     ]
    }
   ],
   "source": [
    "s1=\"mahes\"\n",
    "print(s1.removeprefix(\"mah\"))"
   ]
  },
  {
   "cell_type": "code",
   "execution_count": 6,
   "id": "8877f3a9-c146-4503-8d7b-720a94a6bbd8",
   "metadata": {},
   "outputs": [
    {
     "name": "stdout",
     "output_type": "stream",
     "text": [
      "mah\n"
     ]
    }
   ],
   "source": [
    "print(s1.removesuffix(\"es\"))\n"
   ]
  },
  {
   "cell_type": "code",
   "execution_count": null,
   "id": "3b73430b-1680-4b78-8099-e8766cc3cc29",
   "metadata": {},
   "outputs": [],
   "source": []
  }
 ],
 "metadata": {
  "kernelspec": {
   "display_name": "Python 3 (ipykernel)",
   "language": "python",
   "name": "python3"
  },
  "language_info": {
   "codemirror_mode": {
    "name": "ipython",
    "version": 3
   },
   "file_extension": ".py",
   "mimetype": "text/x-python",
   "name": "python",
   "nbconvert_exporter": "python",
   "pygments_lexer": "ipython3",
   "version": "3.12.7"
  }
 },
 "nbformat": 4,
 "nbformat_minor": 5
}
