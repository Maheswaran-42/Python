{
 "cells": [
  {
   "cell_type": "code",
   "execution_count": 1,
   "id": "c2d7edc0-685a-445d-b767-f41eaef2d2e5",
   "metadata": {},
   "outputs": [
    {
     "name": "stdout",
     "output_type": "stream",
     "text": [
      "IT\n",
      "kalasalingam\n"
     ]
    }
   ],
   "source": [
    "#single inheritance\n",
    "class college():\n",
    "    def collegename(self):\n",
    "        print(\"kalasalingam\")\n",
    "class department():\n",
    "    def branch(self):\n",
    "        print(\"IT\")\n",
    "p1=department()\n",
    "p1.branch()\n",
    "p2=college()\n",
    "p2.collegename()"
   ]
  },
  {
   "cell_type": "code",
   "execution_count": 2,
   "id": "4e2475e5-028d-4c0a-928f-99c9774d6549",
   "metadata": {},
   "outputs": [
    {
     "name": "stdout",
     "output_type": "stream",
     "text": [
      "kalasalingam\n",
      "IT/CSE\n",
      "total 76 student\n",
      "maheswaran , sabari,veeramani,saravana\n"
     ]
    }
   ],
   "source": [
    "#multiple inheritance\n",
    "class college():\n",
    "    def collegename(self):\n",
    "        print(\"kalasalingam\")\n",
    "class department():\n",
    "    def branch(self):\n",
    "        print(\"IT/CSE\")\n",
    "class section():\n",
    "    def sectionA(self):\n",
    "        print(\"total 76 student\")\n",
    "class name(section,department,college):\n",
    "    def studentname(self):\n",
    "        print(\"maheswaran , sabari,veeramani,saravana\")\n",
    "p1=name()\n",
    "p1.collegename()\n",
    "p1.branch()\n",
    "p1.sectionA()\n",
    "p1.studentname()"
   ]
  },
  {
   "cell_type": "code",
   "execution_count": 3,
   "id": "f87e19fe-33ba-45ce-b2a7-a21a22f2b0ca",
   "metadata": {},
   "outputs": [
    {
     "name": "stdout",
     "output_type": "stream",
     "text": [
      "kalasalingam\n"
     ]
    }
   ],
   "source": [
    "#multi level inheritance\n",
    "class college():\n",
    "    def collegename(self):\n",
    "        print(\"kalasalingam\")\n",
    "class department(college):\n",
    "    def branch(self):\n",
    "        print(\"IT/CSE\")\n",
    "class section(department):\n",
    "    def sectionA(self):\n",
    "        print(\"total 76 student\")\n",
    "class name(section):\n",
    "    def studentname(self):\n",
    "        print(\"maheswaran,sabari,veeramani,saravana\")\n",
    "p1=name()\n",
    "p1.collegename()"
   ]
  },
  {
   "cell_type": "code",
   "execution_count": 4,
   "id": "862ad41f-82a6-4b46-be61-50cbce831a27",
   "metadata": {},
   "outputs": [
    {
     "name": "stdout",
     "output_type": "stream",
     "text": [
      "kalasalingam\n"
     ]
    }
   ],
   "source": [
    "#hierarchical inheritance\n",
    "class college():\n",
    "    def collegename(self):\n",
    "        print(\"kalasalingam\")\n",
    "class department(college):\n",
    "    def branch(self):\n",
    "        print(\"IT/CSE\")\n",
    "class section (college):\n",
    "    def sectionA(self):\n",
    "        print(\"total 76 student\")\n",
    "p1=section()\n",
    "p1.collegename()"
   ]
  },
  {
   "cell_type": "code",
   "execution_count": 5,
   "id": "85aae7ed-4829-4a16-ac70-65d1882c38fc",
   "metadata": {},
   "outputs": [
    {
     "name": "stdout",
     "output_type": "stream",
     "text": [
      "IT/CSE\n"
     ]
    }
   ],
   "source": [
    "#hybrid inheritance\n",
    "class college():\n",
    "    def collegename(self):\n",
    "        print(\"kalasalingam\")\n",
    "class department():\n",
    "    def branch(self):\n",
    "        print(\"IT/CSE\")\n",
    "class section(department):\n",
    "    def sentionA(self):\n",
    "        print(\"total 76 student\")\n",
    "class student(department):\n",
    "    def studentname(self):\n",
    "        print(\"maheswaran\")\n",
    "p1=student()\n",
    "p1.branch()\n"
   ]
  },
  {
   "cell_type": "code",
   "execution_count": null,
   "id": "bb143013-d658-4141-ad5f-3df8df325ded",
   "metadata": {},
   "outputs": [],
   "source": []
  }
 ],
 "metadata": {
  "kernelspec": {
   "display_name": "Python 3 (ipykernel)",
   "language": "python",
   "name": "python3"
  },
  "language_info": {
   "codemirror_mode": {
    "name": "ipython",
    "version": 3
   },
   "file_extension": ".py",
   "mimetype": "text/x-python",
   "name": "python",
   "nbconvert_exporter": "python",
   "pygments_lexer": "ipython3",
   "version": "3.12.7"
  }
 },
 "nbformat": 4,
 "nbformat_minor": 5
}
