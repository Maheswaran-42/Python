{
 "cells": [
  {
   "cell_type": "code",
   "execution_count": 12,
   "id": "1bc810e2-d5d3-44c7-93da-e52e3f68188d",
   "metadata": {},
   "outputs": [
    {
     "name": "stdin",
     "output_type": "stream",
     "text": [
      "Enter your age: 50\n",
      "Enter your current status: mk\n"
     ]
    },
    {
     "name": "stdout",
     "output_type": "stream",
     "text": [
      "not eligible under rules\n"
     ]
    }
   ],
   "source": [
    "age=(int(input(\"Enter your age:\")))\n",
    "details=(str(input(\"Enter your current status:\")))\n",
    "if age >= 60 or details == \"student\":\n",
    " print(\"you are eligible\")\n",
    "else:\n",
    " print(\"not eligible under rules\")"
   ]
  },
  {
   "cell_type": "code",
   "execution_count": null,
   "id": "c9af384d-9463-4c0c-b9f2-f84e42dad1ee",
   "metadata": {},
   "outputs": [],
   "source": []
  }
 ],
 "metadata": {
  "kernelspec": {
   "display_name": "Python 3 (ipykernel)",
   "language": "python",
   "name": "python3"
  },
  "language_info": {
   "codemirror_mode": {
    "name": "ipython",
    "version": 3
   },
   "file_extension": ".py",
   "mimetype": "text/x-python",
   "name": "python",
   "nbconvert_exporter": "python",
   "pygments_lexer": "ipython3",
   "version": "3.12.7"
  }
 },
 "nbformat": 4,
 "nbformat_minor": 5
}
