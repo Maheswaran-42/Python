{
 "cells": [
  {
   "cell_type": "code",
   "execution_count": 3,
   "id": "661db865-1858-4233-9f13-76f39a2f43aa",
   "metadata": {},
   "outputs": [
    {
     "name": "stdin",
     "output_type": "stream",
     "text": [
      "enter your option: (stone/paper/scissor) stone\n",
      "enter your option: (stone/paper/scissor  scissor\n"
     ]
    },
    {
     "name": "stdout",
     "output_type": "stream",
     "text": [
      "User 1 wins the game\n"
     ]
    }
   ],
   "source": [
    "user_1=input(\"enter your option: (stone/paper/scissor)\");\n",
    "user_2=input((\"enter your option: (stone/paper/scissor \"));\n",
    "def game (user_1,user_2):\n",
    "    if user_1 == user_2:\n",
    "        print(\"It's a tie!\")\n",
    "    elif user_1 == \"stone\":\n",
    "        if user_2 == \"scissor\":\n",
    "            print(\"User 1 wins the game\")\n",
    "        elif user_2 == \"paper\":\n",
    "            print(\"User 2 wins the game\")\n",
    "game(user_1,user_2)"
   ]
  },
  {
   "cell_type": "code",
   "execution_count": null,
   "id": "034b2a5a-7849-42be-9f1d-150848445e3e",
   "metadata": {},
   "outputs": [],
   "source": [
    "user_1 = input(\"Enter your option: (stone/paper/scissor) \")\n",
    "user_2 = input(\"Enter your option: (stone/paper/scissor) \")\n",
    "def game(user_1, user_2):\n",
    "    if user_1 == user_2:\n",
    "        print(\"It's a tie!\")\n",
    "    elif user_1 == \"stone\":\n",
    "        if user_2 == \"scissor\":\n",
    "            print(\"User 1 wins the game\")\n",
    "        elif user_2 == \"paper\":\n",
    "            print(\"User 2 wins the game\")\n",
    "    elif user_1 == \"paper\":\n",
    "        if user_2 == \"stone\":\n",
    "            print(\"User 1 wins the game\")\n",
    "        elif user_2 == \"scissor\":\n",
    "            print(\"User 2 wins the game\")\n",
    "    elif user_1 == \"scissor\":\n",
    "        if user_2 == \"paper\":\n",
    "            print(\"User 1 wins the game\")\n",
    "        elif user_2 == \"stone\":\n",
    "            print(\"User 2 wins the game\")\n",
    "    else:\n",
    "        print(\"Invalid input! Please choose stone,paper,orscissor\")\n",
    "\n",
    "game(user_1, user_2)\n"
   ]
  },
  {
   "cell_type": "code",
   "execution_count": 5,
   "id": "69fb6155-c7bf-4c4e-98f8-23d0b90b9300",
   "metadata": {},
   "outputs": [
    {
     "name": "stdin",
     "output_type": "stream",
     "text": [
      "Enter your option:user_1 (stone/paper/scissor)  stone\n"
     ]
    },
    {
     "name": "stdout",
     "output_type": "stream",
     "text": [
      "user_2 choose: stone\n",
      "It's a tie!\n"
     ]
    }
   ],
   "source": [
    "import random\n",
    "choices =[\"stone\",\"paper\",\"scissor\"]\n",
    "\n",
    "user_1 = input(\"Enter your option:user_1 (stone/paper/scissor) \")\n",
    "user_2 = random.choice(choices)\n",
    "print(f\"user_2 choose: {user_2}\")\n",
    "\n",
    "\n",
    "def game(user_1, user_2):\n",
    "    if user_1 == user_2:\n",
    "        print(\"It's a tie!\")\n",
    "    elif user_1 == \"stone\":\n",
    "        if user_2 == \"scissor\":\n",
    "            print(\"User 1 wins the game\")\n",
    "        elif user_2 == \"paper\":\n",
    "            print(\"User 2 wins the game\")\n",
    "    elif user_1 == \"paper\":\n",
    "        if user_2 == \"stone\":\n",
    "            print(\"User 1 wins the game\")\n",
    "        elif user_2 == \"scissor\":\n",
    "            print(\"User 2 wins the game\")\n",
    "    elif user_1 == \"scissor\":\n",
    "        if user_2 == \"paper\":\n",
    "            print(\"User 1 wins the game\")\n",
    "        elif user_2 == \"stone\":\n",
    "            print(\"User 2 wins the game\")\n",
    "    else:\n",
    "        print(\"Invalid input.. Please choose stone,paper,orscissor\")\n",
    "\n",
    "game(user_1, user_2)\n"
   ]
  },
  {
   "cell_type": "code",
   "execution_count": 10,
   "id": "0fcfae77-cb22-4890-8bb9-4a69f0ed71be",
   "metadata": {},
   "outputs": [
    {
     "name": "stdin",
     "output_type": "stream",
     "text": [
      "enter the number: 10\n"
     ]
    },
    {
     "name": "stdout",
     "output_type": "stream",
     "text": [
      "1\n"
     ]
    }
   ],
   "source": []
  },
  {
   "cell_type": "code",
   "execution_count": null,
   "id": "a6167043-fbe6-4294-bc91-1e1b67b3a8c4",
   "metadata": {},
   "outputs": [],
   "source": []
  }
 ],
 "metadata": {
  "kernelspec": {
   "display_name": "Python 3 (ipykernel)",
   "language": "python",
   "name": "python3"
  },
  "language_info": {
   "codemirror_mode": {
    "name": "ipython",
    "version": 3
   },
   "file_extension": ".py",
   "mimetype": "text/x-python",
   "name": "python",
   "nbconvert_exporter": "python",
   "pygments_lexer": "ipython3",
   "version": "3.12.7"
  }
 },
 "nbformat": 4,
 "nbformat_minor": 5
}
