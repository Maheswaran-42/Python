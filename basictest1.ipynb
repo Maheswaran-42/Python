{
 "cells": [
  {
   "cell_type": "code",
   "execution_count": 1,
   "id": "7af60104-778b-4b5c-95cf-bd5d043ea420",
   "metadata": {},
   "outputs": [
    {
     "name": "stdin",
     "output_type": "stream",
     "text": [
      "sw: mahes\n",
      "sw1: fghtj\n"
     ]
    },
    {
     "data": {
      "text/plain": [
       "False"
      ]
     },
     "execution_count": 1,
     "metadata": {},
     "output_type": "execute_result"
    }
   ],
   "source": [
    "##anagram\n",
    "\n",
    "\n",
    "a=input(\"sw:\")\n",
    "b=input(\"sw1:\")\n",
    "def anagram (a,b):\n",
    "    for char in b:\n",
    "        if a.count(char) != b.count(char):\n",
    "          return False\n",
    "    return True\n",
    "anagram(a,b)  "
   ]
  },
  {
   "cell_type": "code",
   "execution_count": 2,
   "id": "9875ba5b-58b0-45e2-ba2f-ec345ec6e4b3",
   "metadata": {},
   "outputs": [
    {
     "name": "stdin",
     "output_type": "stream",
     "text": [
      "enter : mahes\n"
     ]
    },
    {
     "name": "stdout",
     "output_type": "stream",
     "text": [
      "not a palindrome\n"
     ]
    }
   ],
   "source": [
    "##palindrome\n",
    "\n",
    "a=input(\"enter :\")\n",
    "def palindrome(a):\n",
    "    if a == a[::-1]:\n",
    "        print(\"palindrome\")\n",
    "    else:\n",
    "        print(\"not a palindrome\")\n",
    "palindrome(a)"
   ]
  },
  {
   "cell_type": "code",
   "execution_count": 4,
   "id": "b6402b8a-d16c-4060-a493-756e164f68a6",
   "metadata": {},
   "outputs": [
    {
     "name": "stdout",
     "output_type": "stream",
     "text": [
      "max: 4000\n"
     ]
    }
   ],
   "source": [
    "##find max value\n",
    "\n",
    "a=[1,2,3,4000,5,768]\n",
    "tem=a[0]\n",
    "def max_value(a,tem):\n",
    "    for i in a:\n",
    "        if i > tem:\n",
    "          tem = i\n",
    "    else:\n",
    "       print(\"max:\",tem)\n",
    "max_value(a,tem)"
   ]
  },
  {
   "cell_type": "code",
   "execution_count": 8,
   "id": "54e96a5c-2d68-43d9-8f3f-6e4f8e5a29bd",
   "metadata": {},
   "outputs": [
    {
     "name": "stdout",
     "output_type": "stream",
     "text": [
      "MIN: 1\n"
     ]
    }
   ],
   "source": [
    "##find min value\n",
    "\n",
    "tem =a[0]\n",
    "for i in a:\n",
    "    if i < tem:\n",
    "        tem = i\n",
    "else:\n",
    "    print (\"MIN:\" , tem)"
   ]
  },
  {
   "cell_type": "code",
   "execution_count": 31,
   "id": "13b0e6b8-795b-47c5-8e14-407c068fe757",
   "metadata": {},
   "outputs": [
    {
     "name": "stdout",
     "output_type": "stream",
     "text": [
      "MAX: 4000\n",
      "MIN: 1\n"
     ]
    }
   ],
   "source": [
    "a = [1, 2, 3, 4000, 5, 768]\n",
    "def find_max_min(a):\n",
    "    max_value = a[0]\n",
    "    min_value = a[0]\n",
    "    for i in a:\n",
    "        if i > max_value:\n",
    "            max_value = i\n",
    "        if i < min_value:\n",
    "            min_value = i\n",
    "    print(\"MAX:\", max_value)\n",
    "    print(\"MIN:\", min_value)\n",
    "find_max_min(a)\n",
    "\n"
   ]
  },
  {
   "cell_type": "code",
   "execution_count": 35,
   "id": "097e8509-574c-45ef-a3a4-a31ddd2794bc",
   "metadata": {},
   "outputs": [
    {
     "name": "stdout",
     "output_type": "stream",
     "text": [
      "[1, 2, 3, 4, 5]\n"
     ]
    }
   ],
   "source": [
    "##remove duplicates value\n",
    "a = [1,2,2,3,4,4,5]\n",
    "b = []\n",
    "def remove (a):\n",
    "  for tem in a :\n",
    "    if tem not in b :\n",
    "        b.append(tem)\n",
    "  print (b)\n",
    "remove(a)"
   ]
  },
  {
   "cell_type": "code",
   "execution_count": 50,
   "id": "bc2047aa-6382-4a13-8a75-a3a4e29f16c3",
   "metadata": {},
   "outputs": [
    {
     "name": "stdout",
     "output_type": "stream",
     "text": [
      "[1, 3, 12, 3432, 5666]\n"
     ]
    }
   ],
   "source": [
    "## asce order\n",
    "l1=[12,3432,5666,3,1]\n",
    "b = []\n",
    "for value in range (0,len(l1)):\n",
    "    for value1 in range (value+1,len(l1)):\n",
    "       if l1[value] >= l1[value1]:\n",
    "          l1[value],l1[value1] = l1[value1],l1[value]\n",
    "print (l1)  "
   ]
  },
  {
   "cell_type": "code",
   "execution_count": 51,
   "id": "3588eb8a-ceeb-445f-b219-dd307ad59b2b",
   "metadata": {},
   "outputs": [
    {
     "name": "stdout",
     "output_type": "stream",
     "text": [
      "[5666, 3432, 12, 3, 1]\n"
     ]
    }
   ],
   "source": [
    "##desc order\n",
    "l1=[12,3432,5666,3,1]\n",
    "b = []\n",
    "for value in range (0,len(l1)):\n",
    "    for value1 in range (value+1,len(l1)):\n",
    "       if l1[value] <= l1[value1]:\n",
    "          l1[value],l1[value1] = l1[value1],l1[value]\n",
    "print (l1)  "
   ]
  },
  {
   "cell_type": "code",
   "execution_count": 55,
   "id": "ae91810f-7884-45fc-b997-ec2e8cf04a56",
   "metadata": {},
   "outputs": [
    {
     "name": "stdout",
     "output_type": "stream",
     "text": [
      "even\n"
     ]
    }
   ],
   "source": [
    "## odd or even\n",
    "m = 44\n",
    "def odd_eve (m):\n",
    "  if m % 2 == 0:\n",
    "     print(\"even\")\n",
    "  elif m % 2 == 1:\n",
    "    print(\"odd\")\n",
    "odd_eve(m)"
   ]
  },
  {
   "cell_type": "code",
   "execution_count": 68,
   "id": "00399bc4-cf91-4703-9552-e67ee8e88607",
   "metadata": {},
   "outputs": [
    {
     "name": "stdin",
     "output_type": "stream",
     "text": [
      "enter your name: mahes\n"
     ]
    },
    {
     "name": "stdout",
     "output_type": "stream",
     "text": [
      "2\n"
     ]
    }
   ],
   "source": [
    "## count vowels\n",
    "\n",
    "name = input(\"enter your name:\")\n",
    "vowels = \"aeiouAEIOU\"\n",
    "def vow(name):\n",
    "    count = 0\n",
    "    for nam in name :\n",
    "        if nam in vowels:\n",
    "            count+=1\n",
    "    print(count)\n",
    "vow(name)\n"
   ]
  },
  {
   "cell_type": "code",
   "execution_count": 76,
   "id": "69ec8ce6-de9d-4f70-a2b9-cf210fabf2a2",
   "metadata": {},
   "outputs": [
    {
     "name": "stdin",
     "output_type": "stream",
     "text": [
      "enter a num 4\n"
     ]
    },
    {
     "name": "stdout",
     "output_type": "stream",
     "text": [
      "24\n"
     ]
    }
   ],
   "source": [
    "## factorial num\n",
    "\n",
    "a = int (input(\"enter a num\"))\n",
    "def prime_num(a):\n",
    "   fact = 1\n",
    "   if a < 1:\n",
    "      print (\" not defined\")\n",
    "   elif a == 0:\n",
    "      print(\"value is 1\")\n",
    "   else:\n",
    "        for values in range (1,a+1):\n",
    "          fact = fact*values\n",
    "   print(fact)\n",
    "prime_num (a)"
   ]
  },
  {
   "cell_type": "code",
   "execution_count": 78,
   "id": "3704ec8b-6118-4777-8be0-66873e471c46",
   "metadata": {},
   "outputs": [
    {
     "name": "stdin",
     "output_type": "stream",
     "text": [
      "enter your num : 2\n"
     ]
    },
    {
     "name": "stdout",
     "output_type": "stream",
     "text": [
      "prime\n"
     ]
    }
   ],
   "source": [
    "## prime num\n",
    "a = int(input(\"enter your num :\"))\n",
    "def prime(a):\n",
    "  if a <= 1:\n",
    "      print(\"not a prime\")\n",
    "  else :\n",
    "      for num in range (2 ,a):\n",
    "         if a % num == 0:\n",
    "            print (\"not prime\")\n",
    "            break\n",
    "      else:\n",
    "        print(\"prime\")\n",
    "prime(a)"
   ]
  },
  {
   "cell_type": "code",
   "execution_count": 80,
   "id": "76592317-3461-4325-bf1e-a1be7a012e5d",
   "metadata": {},
   "outputs": [
    {
     "name": "stdin",
     "output_type": "stream",
     "text": [
      "enter  mahes\n"
     ]
    },
    {
     "name": "stdout",
     "output_type": "stream",
     "text": [
      "seham\n"
     ]
    }
   ],
   "source": [
    "a = input(\"enter \")\n",
    "b =[]\n",
    "def reverse_string(a,b):\n",
    "  for i in a :\n",
    "     b=a[::-1]\n",
    "  print(b)\n",
    "reverse_string(a,b)"
   ]
  },
  {
   "cell_type": "code",
   "execution_count": null,
   "id": "a5b15ca8-c5a2-4520-9c10-13aea02e8c62",
   "metadata": {},
   "outputs": [],
   "source": []
  }
 ],
 "metadata": {
  "kernelspec": {
   "display_name": "Python 3 (ipykernel)",
   "language": "python",
   "name": "python3"
  },
  "language_info": {
   "codemirror_mode": {
    "name": "ipython",
    "version": 3
   },
   "file_extension": ".py",
   "mimetype": "text/x-python",
   "name": "python",
   "nbconvert_exporter": "python",
   "pygments_lexer": "ipython3",
   "version": "3.12.7"
  }
 },
 "nbformat": 4,
 "nbformat_minor": 5
}
