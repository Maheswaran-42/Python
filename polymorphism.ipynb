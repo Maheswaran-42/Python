{
 "cells": [
  {
   "cell_type": "code",
   "execution_count": 4,
   "id": "1dd8e12e-ff82-4f4a-b037-b20b2deb0bb3",
   "metadata": {},
   "outputs": [
    {
     "name": "stdout",
     "output_type": "stream",
     "text": [
      " house 2\n"
     ]
    }
   ],
   "source": [
    "class dad():\n",
    "    def house(self):\n",
    "        print(\" house 1 \")\n",
    "class son(dad):\n",
    "    def factory(self):\n",
    "        print(\"factory 1\")\n",
    "    def house(self):\n",
    "        print(\" house 2\")\n",
    "p1=son()\n",
    "p1.house() # first print house 2 beacause its check the class itself(son) then its go to inherited class(parent) "
   ]
  },
  {
   "cell_type": "code",
   "execution_count": null,
   "id": "7ff586db-75fc-4ce1-a311-0d84d114a6ff",
   "metadata": {},
   "outputs": [],
   "source": []
  }
 ],
 "metadata": {
  "kernelspec": {
   "display_name": "Python 3 (ipykernel)",
   "language": "python",
   "name": "python3"
  },
  "language_info": {
   "codemirror_mode": {
    "name": "ipython",
    "version": 3
   },
   "file_extension": ".py",
   "mimetype": "text/x-python",
   "name": "python",
   "nbconvert_exporter": "python",
   "pygments_lexer": "ipython3",
   "version": "3.12.7"
  }
 },
 "nbformat": 4,
 "nbformat_minor": 5
}
