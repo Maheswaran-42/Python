{
 "cells": [
  {
   "cell_type": "code",
   "execution_count": 1,
   "id": "335094b1-46c7-4942-a225-4c0b74cdf89e",
   "metadata": {},
   "outputs": [
    {
     "name": "stdout",
     "output_type": "stream",
     "text": [
      "mahes\n"
     ]
    }
   ],
   "source": [
    "print(\"mahes\")"
   ]
  },
  {
   "cell_type": "code",
   "execution_count": 2,
   "id": "2af0c848-24d2-4c20-b049-aa894bdd23f8",
   "metadata": {},
   "outputs": [
    {
     "name": "stdout",
     "output_type": "stream",
     "text": [
      "1\n"
     ]
    }
   ],
   "source": [
    "print (1)"
   ]
  },
  {
   "cell_type": "code",
   "execution_count": 4,
   "id": "04334b15-6dda-4780-b44b-f6e66214eac2",
   "metadata": {},
   "outputs": [
    {
     "name": "stdout",
     "output_type": "stream",
     "text": [
      "ajay\n"
     ]
    }
   ],
   "source": [
    "print(\"ajay\")"
   ]
  },
  {
   "cell_type": "code",
   "execution_count": 5,
   "id": "75f9e028-f715-4d21-9f0b-9d85d4f5d63a",
   "metadata": {},
   "outputs": [
    {
     "name": "stdout",
     "output_type": "stream",
     "text": [
      "krishna\n"
     ]
    }
   ],
   "source": [
    "print(\"krishna\")"
   ]
  },
  {
   "cell_type": "code",
   "execution_count": 6,
   "id": "ef57cece-26ce-44cf-a895-a6dabda0dc29",
   "metadata": {},
   "outputs": [
    {
     "name": "stdout",
     "output_type": "stream",
     "text": [
      "3\n"
     ]
    }
   ],
   "source": [
    "print(3)"
   ]
  },
  {
   "cell_type": "code",
   "execution_count": 7,
   "id": "574cff76-1804-49dd-bf9f-22f2a70397cd",
   "metadata": {},
   "outputs": [
    {
     "name": "stdout",
     "output_type": "stream",
     "text": [
      "4\n"
     ]
    }
   ],
   "source": [
    "print(4)"
   ]
  },
  {
   "cell_type": "code",
   "execution_count": 8,
   "id": "f6cd80fe-d9d2-484c-ab3d-7877cf5ac1e8",
   "metadata": {},
   "outputs": [
    {
     "name": "stdout",
     "output_type": "stream",
     "text": [
      "ajay v\n"
     ]
    }
   ],
   "source": [
    "print(\"ajay v\")"
   ]
  },
  {
   "cell_type": "code",
   "execution_count": 9,
   "id": "1925623f-9806-4de4-a1ad-d467052b1f83",
   "metadata": {},
   "outputs": [
    {
     "name": "stdout",
     "output_type": "stream",
     "text": [
      "5\n"
     ]
    }
   ],
   "source": [
    "print(5)"
   ]
  },
  {
   "cell_type": "code",
   "execution_count": 10,
   "id": "f0857fda-d4e5-4774-b35f-f6c0d0ffa489",
   "metadata": {},
   "outputs": [
    {
     "name": "stdout",
     "output_type": "stream",
     "text": [
      "10\n"
     ]
    }
   ],
   "source": [
    "print(10)"
   ]
  },
  {
   "cell_type": "code",
   "execution_count": 11,
   "id": "b4bb3c02-c913-40ce-9095-7f11c7b932c5",
   "metadata": {},
   "outputs": [
    {
     "name": "stdout",
     "output_type": "stream",
     "text": [
      "mahesk\n"
     ]
    }
   ],
   "source": [
    "print(\"mahesk\")"
   ]
  },
  {
   "cell_type": "code",
   "execution_count": 1,
   "id": "dfb9b6ec-f3ba-4285-9323-53bd7103264c",
   "metadata": {},
   "outputs": [
    {
     "data": {
      "text/plain": [
       "'18'"
      ]
     },
     "execution_count": 1,
     "metadata": {},
     "output_type": "execute_result"
    }
   ],
   "source": [
    "## convert the datatypes\n",
    "\n",
    "m1=18\n",
    "m2=str(m1)#int to str\n",
    "m2"
   ]
  },
  {
   "cell_type": "code",
   "execution_count": 2,
   "id": "127d8daf-38d5-4542-a10f-2562d1f86c61",
   "metadata": {},
   "outputs": [
    {
     "data": {
      "text/plain": [
       "(18+0j)"
      ]
     },
     "execution_count": 2,
     "metadata": {},
     "output_type": "execute_result"
    }
   ],
   "source": [
    "m2=complex(m1)#int to complex\n",
    "m2"
   ]
  },
  {
   "cell_type": "code",
   "execution_count": 3,
   "id": "f8981ae4-cec7-4be3-879c-571699728bc6",
   "metadata": {},
   "outputs": [
    {
     "data": {
      "text/plain": [
       "18.0"
      ]
     },
     "execution_count": 3,
     "metadata": {},
     "output_type": "execute_result"
    }
   ],
   "source": [
    "m3=float(m1)\n",
    "m3"
   ]
  },
  {
   "cell_type": "code",
   "execution_count": 4,
   "id": "a8352e7a-cf94-4eda-810e-3b7fcddc97df",
   "metadata": {},
   "outputs": [
    {
     "ename": "ValueError",
     "evalue": "invalid literal for int() with base 10: 'mahe'",
     "output_type": "error",
     "traceback": [
      "\u001b[1;31m---------------------------------------------------------------------------\u001b[0m",
      "\u001b[1;31mValueError\u001b[0m                                Traceback (most recent call last)",
      "Cell \u001b[1;32mIn[4], line 2\u001b[0m\n\u001b[0;32m      1\u001b[0m s1\u001b[38;5;241m=\u001b[39m\u001b[38;5;124m\"\u001b[39m\u001b[38;5;124mmahe\u001b[39m\u001b[38;5;124m\"\u001b[39m\n\u001b[1;32m----> 2\u001b[0m s2\u001b[38;5;241m=\u001b[39m\u001b[38;5;28mint\u001b[39m(s1)\n\u001b[0;32m      3\u001b[0m s2\n",
      "\u001b[1;31mValueError\u001b[0m: invalid literal for int() with base 10: 'mahe'"
     ]
    }
   ],
   "source": [
    "## convert str to other data types\n",
    "s1=\"mahe\"\n",
    "s2=int(s1)\n",
    "s2"
   ]
  },
  {
   "cell_type": "code",
   "execution_count": 5,
   "id": "2eee7435-03d5-4594-aeb7-ff56a4c62ac0",
   "metadata": {},
   "outputs": [
    {
     "ename": "ValueError",
     "evalue": "could not convert string to float: 'mahe'",
     "output_type": "error",
     "traceback": [
      "\u001b[1;31m---------------------------------------------------------------------------\u001b[0m",
      "\u001b[1;31mValueError\u001b[0m                                Traceback (most recent call last)",
      "Cell \u001b[1;32mIn[5], line 1\u001b[0m\n\u001b[1;32m----> 1\u001b[0m s3\u001b[38;5;241m=\u001b[39m\u001b[38;5;28mfloat\u001b[39m(s1)\n\u001b[0;32m      2\u001b[0m s3\n",
      "\u001b[1;31mValueError\u001b[0m: could not convert string to float: 'mahe'"
     ]
    }
   ],
   "source": [
    "s3=float(s1)\n",
    "s3"
   ]
  },
  {
   "cell_type": "code",
   "execution_count": 6,
   "id": "70515cf3-ebf8-45b3-be91-ec6a252188cc",
   "metadata": {},
   "outputs": [
    {
     "ename": "ValueError",
     "evalue": "complex() arg is a malformed string",
     "output_type": "error",
     "traceback": [
      "\u001b[1;31m---------------------------------------------------------------------------\u001b[0m",
      "\u001b[1;31mValueError\u001b[0m                                Traceback (most recent call last)",
      "Cell \u001b[1;32mIn[6], line 1\u001b[0m\n\u001b[1;32m----> 1\u001b[0m s4\u001b[38;5;241m=\u001b[39m\u001b[38;5;28mcomplex\u001b[39m(s1)\n\u001b[0;32m      2\u001b[0m s4\n",
      "\u001b[1;31mValueError\u001b[0m: complex() arg is a malformed string"
     ]
    }
   ],
   "source": [
    "s4=complex(s1)\n",
    "s4"
   ]
  },
  {
   "cell_type": "code",
   "execution_count": 20,
   "id": "22f05d8a-048f-4d5f-8a9e-d5c3131ce649",
   "metadata": {},
   "outputs": [
    {
     "name": "stdout",
     "output_type": "stream",
     "text": [
      "<class 'int'>\n"
     ]
    }
   ],
   "source": [
    "## convert str no to other data types\n",
    "t1= \"18\"\n",
    "t1= int(t1)\n",
    "print(type(t1))"
   ]
  },
  {
   "cell_type": "code",
   "execution_count": 9,
   "id": "2659ee25-ccfd-4ac6-b370-ec488558b6c8",
   "metadata": {},
   "outputs": [
    {
     "data": {
      "text/plain": [
       "18.0"
      ]
     },
     "execution_count": 9,
     "metadata": {},
     "output_type": "execute_result"
    }
   ],
   "source": [
    "t3=float(t1)\n",
    "t3"
   ]
  },
  {
   "cell_type": "code",
   "execution_count": 10,
   "id": "2ff57182-2cc8-4349-b084-1d74e894c020",
   "metadata": {},
   "outputs": [
    {
     "data": {
      "text/plain": [
       "(18+0j)"
      ]
     },
     "execution_count": 10,
     "metadata": {},
     "output_type": "execute_result"
    }
   ],
   "source": [
    "t4=complex(t1)\n",
    "t4"
   ]
  },
  {
   "cell_type": "code",
   "execution_count": 11,
   "id": "688e811b-1f03-44cd-90c1-d43655fae0ca",
   "metadata": {},
   "outputs": [
    {
     "data": {
      "text/plain": [
       "'(1+5j)'"
      ]
     },
     "execution_count": 11,
     "metadata": {},
     "output_type": "execute_result"
    }
   ],
   "source": [
    "## convert complex to other datatypes\n",
    "a1=1+5j\n",
    "a2=str(a1)\n",
    "a2"
   ]
  },
  {
   "cell_type": "code",
   "execution_count": 13,
   "id": "ef660a91-6442-437f-a561-3247f5e5e145",
   "metadata": {},
   "outputs": [
    {
     "ename": "TypeError",
     "evalue": "int() argument must be a string, a bytes-like object or a real number, not 'complex'",
     "output_type": "error",
     "traceback": [
      "\u001b[1;31m---------------------------------------------------------------------------\u001b[0m",
      "\u001b[1;31mTypeError\u001b[0m                                 Traceback (most recent call last)",
      "Cell \u001b[1;32mIn[13], line 1\u001b[0m\n\u001b[1;32m----> 1\u001b[0m a3\u001b[38;5;241m=\u001b[39m\u001b[38;5;28mint\u001b[39m(a1)\n\u001b[0;32m      2\u001b[0m a3\n",
      "\u001b[1;31mTypeError\u001b[0m: int() argument must be a string, a bytes-like object or a real number, not 'complex'"
     ]
    }
   ],
   "source": [
    "a3=int(a1)\n",
    "a3"
   ]
  },
  {
   "cell_type": "code",
   "execution_count": 14,
   "id": "520c3432-808c-45f4-a24b-cd0026b874bb",
   "metadata": {},
   "outputs": [
    {
     "ename": "TypeError",
     "evalue": "float() argument must be a string or a real number, not 'complex'",
     "output_type": "error",
     "traceback": [
      "\u001b[1;31m---------------------------------------------------------------------------\u001b[0m",
      "\u001b[1;31mTypeError\u001b[0m                                 Traceback (most recent call last)",
      "Cell \u001b[1;32mIn[14], line 1\u001b[0m\n\u001b[1;32m----> 1\u001b[0m a4\u001b[38;5;241m=\u001b[39m\u001b[38;5;28mfloat\u001b[39m(a1)\n\u001b[0;32m      2\u001b[0m a4\n",
      "\u001b[1;31mTypeError\u001b[0m: float() argument must be a string or a real number, not 'complex'"
     ]
    }
   ],
   "source": [
    "a4=float(a1)\n",
    "a4"
   ]
  },
  {
   "cell_type": "code",
   "execution_count": 15,
   "id": "650babd1-91f1-4df7-9f03-01d857ef7bd0",
   "metadata": {},
   "outputs": [
    {
     "data": {
      "text/plain": [
       "76"
      ]
     },
     "execution_count": 15,
     "metadata": {},
     "output_type": "execute_result"
    }
   ],
   "source": [
    "## convert float data type to other data types\n",
    "b1=76.6\n",
    "b2=int(b1)\n",
    "b2"
   ]
  },
  {
   "cell_type": "code",
   "execution_count": 16,
   "id": "529a4f50-b868-47e7-8ae2-811d9e5ea0fe",
   "metadata": {},
   "outputs": [
    {
     "data": {
      "text/plain": [
       "'76.6'"
      ]
     },
     "execution_count": 16,
     "metadata": {},
     "output_type": "execute_result"
    }
   ],
   "source": [
    "b3=str(b1)\n",
    "b3"
   ]
  },
  {
   "cell_type": "code",
   "execution_count": 17,
   "id": "b89805c0-ebe5-4611-a5f9-810795462331",
   "metadata": {},
   "outputs": [
    {
     "data": {
      "text/plain": [
       "(76.6+0j)"
      ]
     },
     "execution_count": 17,
     "metadata": {},
     "output_type": "execute_result"
    }
   ],
   "source": [
    "b4=complex(b1)\n",
    "b4"
   ]
  },
  {
   "cell_type": "code",
   "execution_count": 30,
   "id": "4c542ae1-e9a4-4ea9-84b0-3b58d180d537",
   "metadata": {},
   "outputs": [
    {
     "name": "stdout",
     "output_type": "stream",
     "text": [
      "<class 'complex'>\n"
     ]
    }
   ],
   "source": [
    "k=\"07\"\n",
    "k1=int(k)\n",
    "#print(type(k1))\n",
    "k2=str(k)\n",
    "#print(type(k2))\n",
    "k3=complex(k)\n",
    "print(type(k3))"
   ]
  },
  {
   "cell_type": "code",
   "execution_count": null,
   "id": "29f787cc-5182-41cb-a1d6-a604ca7fd8db",
   "metadata": {},
   "outputs": [],
   "source": []
  }
 ],
 "metadata": {
  "kernelspec": {
   "display_name": "Python 3 (ipykernel)",
   "language": "python",
   "name": "python3"
  },
  "language_info": {
   "codemirror_mode": {
    "name": "ipython",
    "version": 3
   },
   "file_extension": ".py",
   "mimetype": "text/x-python",
   "name": "python",
   "nbconvert_exporter": "python",
   "pygments_lexer": "ipython3",
   "version": "3.12.7"
  }
 },
 "nbformat": 4,
 "nbformat_minor": 5
}
