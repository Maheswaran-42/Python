{
 "cells": [
  {
   "cell_type": "markdown",
   "id": "6e977155-fc28-4acd-aa11-bb6f84a92d54",
   "metadata": {},
   "source": [
    "\n",
    "list"
   ]
  },
  {
   "cell_type": "code",
   "execution_count": 3,
   "id": "30b8b6ac-6a6e-4af2-b259-24d4d2890256",
   "metadata": {},
   "outputs": [
    {
     "name": "stdout",
     "output_type": "stream",
     "text": [
      "[12, 23, 34, 45, 56, 67, 78]\n"
     ]
    }
   ],
   "source": [
    "a=[12,23,34,45,56,67,78]\n",
    "print(a)"
   ]
  },
  {
   "cell_type": "code",
   "execution_count": 5,
   "id": "f6ad014f-2a9c-49e6-962d-a2a22ab75695",
   "metadata": {},
   "outputs": [
    {
     "name": "stdout",
     "output_type": "stream",
     "text": [
      "[12, 23, 34, 45, 56, 67, 78, 90, 90]\n"
     ]
    }
   ],
   "source": [
    "a.append(90)## add a value into a list\n",
    "print(a)"
   ]
  },
  {
   "cell_type": "code",
   "execution_count": 9,
   "id": "96e97eb0-1c1e-4314-88a1-45447be1e670",
   "metadata": {},
   "outputs": [
    {
     "name": "stdout",
     "output_type": "stream",
     "text": [
      "23\n"
     ]
    }
   ],
   "source": [
    "print(a[1])\n",
    "## give the value at the index 1"
   ]
  },
  {
   "cell_type": "code",
   "execution_count": 11,
   "id": "4448c71a-a303-4d74-8f73-f87495063ccd",
   "metadata": {},
   "outputs": [
    {
     "data": {
      "text/plain": [
       "[11, 11, 12, 23, 34, 45, 56, 67, 78, 90, 90]"
      ]
     },
     "execution_count": 11,
     "metadata": {},
     "output_type": "execute_result"
    }
   ],
   "source": [
    "a.insert(0,11)\n",
    "a"
   ]
  },
  {
   "cell_type": "code",
   "execution_count": 12,
   "id": "708547f3-ed0d-40ea-9394-3b69ac611468",
   "metadata": {},
   "outputs": [
    {
     "data": {
      "text/plain": [
       "[11, 11, 99, 12, 23, 34, 45, 56, 67, 78, 90, 90]"
      ]
     },
     "execution_count": 12,
     "metadata": {},
     "output_type": "execute_result"
    }
   ],
   "source": [
    "a.insert(2,99)\n",
    "a ## insert the values at the index 2"
   ]
  },
  {
   "cell_type": "code",
   "execution_count": 13,
   "id": "551f88d3-5926-4f88-9ed1-ce419a5dc1e8",
   "metadata": {},
   "outputs": [
    {
     "data": {
      "text/plain": [
       "[1, 11, 99, 12, 23, 34, 45, 56, 67, 78, 90, 90]"
      ]
     },
     "execution_count": 13,
     "metadata": {},
     "output_type": "execute_result"
    }
   ],
   "source": [
    "a[0] = 1\n",
    "a ## change the value at index 0"
   ]
  },
  {
   "cell_type": "code",
   "execution_count": 14,
   "id": "40131e72-9ddf-41b4-ac95-c0f2674bd9a6",
   "metadata": {},
   "outputs": [
    {
     "data": {
      "text/plain": [
       "[1, 11, 12, 23, 34, 45, 56, 67, 78, 90, 90]"
      ]
     },
     "execution_count": 14,
     "metadata": {},
     "output_type": "execute_result"
    }
   ],
   "source": [
    "a.pop(2)\n",
    "a## delete the value at the index value 2"
   ]
  },
  {
   "cell_type": "code",
   "execution_count": 15,
   "id": "119113fa-93f9-4489-ae7b-8b5b10091717",
   "metadata": {},
   "outputs": [
    {
     "name": "stdout",
     "output_type": "stream",
     "text": [
      "['mahes', 'ajay']\n"
     ]
    }
   ],
   "source": [
    "b=[\"mahes\",\"ajay\"]\n",
    "print(b)"
   ]
  },
  {
   "cell_type": "code",
   "execution_count": 16,
   "id": "679f151c-d5b3-49b3-977b-a7fb21b96995",
   "metadata": {},
   "outputs": [
    {
     "data": {
      "text/plain": [
       "[1, 11, 12, 23, 34, 45, 56, 67, 78, 90, 90, 'mahes', 'ajay']"
      ]
     },
     "execution_count": 16,
     "metadata": {},
     "output_type": "execute_result"
    }
   ],
   "source": [
    "a.extend(b)\n",
    "a## join the two lists"
   ]
  },
  {
   "cell_type": "markdown",
   "id": "99d01010-8a4b-40a5-b090-982e4b81675e",
   "metadata": {},
   "source": [
    "##tuple()"
   ]
  },
  {
   "cell_type": "code",
   "execution_count": 17,
   "id": "46f2916d-ad88-403e-9127-dde15c151420",
   "metadata": {},
   "outputs": [
    {
     "data": {
      "text/plain": [
       "(1, 2, 3, 4, 5, 6)"
      ]
     },
     "execution_count": 17,
     "metadata": {},
     "output_type": "execute_result"
    }
   ],
   "source": [
    "a1=(1,2,3,4,5,6)\n",
    "a1"
   ]
  },
  {
   "cell_type": "code",
   "execution_count": 19,
   "id": "91ead8a2-4381-4b1d-8177-76db5853820b",
   "metadata": {},
   "outputs": [
    {
     "ename": "AttributeError",
     "evalue": "'tuple' object has no attribute 'insert'",
     "output_type": "error",
     "traceback": [
      "\u001b[1;31m---------------------------------------------------------------------------\u001b[0m",
      "\u001b[1;31mAttributeError\u001b[0m                            Traceback (most recent call last)",
      "Cell \u001b[1;32mIn[19], line 1\u001b[0m\n\u001b[1;32m----> 1\u001b[0m a1\u001b[38;5;241m.\u001b[39minsert(\u001b[38;5;241m0\u001b[39m,\u001b[38;5;241m23\u001b[39m)\n\u001b[0;32m      2\u001b[0m a1\n",
      "\u001b[1;31mAttributeError\u001b[0m: 'tuple' object has no attribute 'insert'"
     ]
    }
   ],
   "source": [
    "a1.insert(0,23)\n",
    "a1"
   ]
  },
  {
   "cell_type": "code",
   "execution_count": 21,
   "id": "db46ec47-f2f5-42f6-926c-25b7461eb214",
   "metadata": {},
   "outputs": [
    {
     "data": {
      "text/plain": [
       "('mahes', 'ajay')"
      ]
     },
     "execution_count": 21,
     "metadata": {},
     "output_type": "execute_result"
    }
   ],
   "source": [
    "a12=(\"mahes\",\"ajay\")\n",
    "a12 ##give the string also in tuple"
   ]
  },
  {
   "cell_type": "code",
   "execution_count": 20,
   "id": "b57fbd30-97ad-46ae-b4fd-5524b6fe726f",
   "metadata": {},
   "outputs": [
    {
     "data": {
      "text/plain": [
       "[1, 2, 3, 4, 5, 6]"
      ]
     },
     "execution_count": 20,
     "metadata": {},
     "output_type": "execute_result"
    }
   ],
   "source": [
    "b1=list(a1)\n",
    "b1## change the tuple into list"
   ]
  },
  {
   "cell_type": "markdown",
   "id": "af636a11-5b5f-44e8-965e-91680b1978ab",
   "metadata": {},
   "source": [
    "##Set"
   ]
  },
  {
   "cell_type": "code",
   "execution_count": 25,
   "id": "64431e33-8c97-4b90-8667-da261a56e7ac",
   "metadata": {},
   "outputs": [
    {
     "data": {
      "text/plain": [
       "{1, 2, 3, 4, 5, 6, 'mahes'}"
      ]
     },
     "execution_count": 25,
     "metadata": {},
     "output_type": "execute_result"
    }
   ],
   "source": [
    "a3={1,2,3,4,5,6,6,\"mahes\"}\n",
    "a3 ##doesn't allow duplicates\n"
   ]
  },
  {
   "cell_type": "code",
   "execution_count": 27,
   "id": "d4f5f5c6-a225-4bce-9907-70f9f420e58d",
   "metadata": {},
   "outputs": [
    {
     "data": {
      "text/plain": [
       "{1, 10, 2, 3, 4, 5, 6, 'mahes'}"
      ]
     },
     "execution_count": 27,
     "metadata": {},
     "output_type": "execute_result"
    }
   ],
   "source": [
    "a3.add(10)\n",
    "a3 ## add value into set"
   ]
  },
  {
   "cell_type": "code",
   "execution_count": 28,
   "id": "732c66aa-523b-4727-b841-a1487d5136fd",
   "metadata": {},
   "outputs": [
    {
     "data": {
      "text/plain": [
       "{1, 2, 3, 4, 5, 6, 'mahes'}"
      ]
     },
     "execution_count": 28,
     "metadata": {},
     "output_type": "execute_result"
    }
   ],
   "source": [
    "a3.remove(10)\n",
    "a3"
   ]
  },
  {
   "cell_type": "code",
   "execution_count": 29,
   "id": "f70123c3-bd77-4886-ab7b-de334c213a17",
   "metadata": {
    "scrolled": true
   },
   "outputs": [
    {
     "ename": "TypeError",
     "evalue": "'int' object is not iterable",
     "output_type": "error",
     "traceback": [
      "\u001b[1;31m---------------------------------------------------------------------------\u001b[0m",
      "\u001b[1;31mTypeError\u001b[0m                                 Traceback (most recent call last)",
      "Cell \u001b[1;32mIn[29], line 1\u001b[0m\n\u001b[1;32m----> 1\u001b[0m a3\u001b[38;5;241m.\u001b[39mupdate(\u001b[38;5;241m12\u001b[39m)\n\u001b[0;32m      2\u001b[0m a3\n",
      "\u001b[1;31mTypeError\u001b[0m: 'int' object is not iterable"
     ]
    }
   ],
   "source": [
    "a3.update(12)\n",
    "a3"
   ]
  },
  {
   "cell_type": "code",
   "execution_count": 33,
   "id": "26b0aa41-c8a2-4458-adba-5a9fb15eb115",
   "metadata": {},
   "outputs": [
    {
     "data": {
      "text/plain": [
       "{4, 5, 6, 'mahes'}"
      ]
     },
     "execution_count": 33,
     "metadata": {},
     "output_type": "execute_result"
    }
   ],
   "source": [
    "a3.pop()\n",
    "a3 "
   ]
  },
  {
   "cell_type": "markdown",
   "id": "80a9000f-5f98-4cf7-8be7-b18acbdfdb60",
   "metadata": {},
   "source": [
    "##dictionary\n"
   ]
  },
  {
   "cell_type": "code",
   "execution_count": 40,
   "id": "acad54b1-05dc-4a48-8918-3098107b473c",
   "metadata": {},
   "outputs": [
    {
     "data": {
      "text/plain": [
       "{'name': 'ajay', 'age': 18}"
      ]
     },
     "execution_count": 40,
     "metadata": {},
     "output_type": "execute_result"
    }
   ],
   "source": [
    "a4={\"name\":\"ajay\",\"age\":18}\n",
    "     ## key   ##value\n",
    "a4"
   ]
  },
  {
   "cell_type": "code",
   "execution_count": 43,
   "id": "e867dcbb-6b99-4313-b190-2683f135297b",
   "metadata": {},
   "outputs": [
    {
     "name": "stdout",
     "output_type": "stream",
     "text": [
      "ajay\n"
     ]
    }
   ],
   "source": [
    "print(a4[\"name\"]) ## give the value of name"
   ]
  },
  {
   "cell_type": "code",
   "execution_count": 44,
   "id": "3364c59a-6d2b-4147-afd5-01f73225a14a",
   "metadata": {},
   "outputs": [
    {
     "name": "stdout",
     "output_type": "stream",
     "text": [
      "18\n"
     ]
    }
   ],
   "source": [
    "print(a4[\"age\"]) ## give the value of age"
   ]
  },
  {
   "cell_type": "code",
   "execution_count": 47,
   "id": "3bae4d8c-6ac7-4b41-bfc7-1c76972cb67a",
   "metadata": {},
   "outputs": [
    {
     "name": "stdout",
     "output_type": "stream",
     "text": [
      "dict_keys(['name', 'age'])\n"
     ]
    }
   ],
   "source": [
    "print(a4.keys()) ## give the keys only"
   ]
  },
  {
   "cell_type": "code",
   "execution_count": 48,
   "id": "2b06f599-71fe-44fd-a1e1-ad6c22a9d2b1",
   "metadata": {},
   "outputs": [
    {
     "name": "stdout",
     "output_type": "stream",
     "text": [
      "dict_values(['ajay', 18])\n"
     ]
    }
   ],
   "source": [
    "print(a4.values()) ##give the values only"
   ]
  },
  {
   "cell_type": "code",
   "execution_count": 49,
   "id": "4c634634-ab69-4aa8-b78d-1e6f714f0549",
   "metadata": {},
   "outputs": [
    {
     "data": {
      "text/plain": [
       "{'name': 'ajay', 'age': 2}"
      ]
     },
     "execution_count": 49,
     "metadata": {},
     "output_type": "execute_result"
    }
   ],
   "source": [
    "a4[\"age\"]=2\n",
    "a4 ##modify the values"
   ]
  },
  {
   "cell_type": "code",
   "execution_count": 50,
   "id": "ee695fa3-7cb3-4cb8-8674-f714255e433e",
   "metadata": {},
   "outputs": [
    {
     "data": {
      "text/plain": [
       "{'name': 'ajay', 'age': 2, 'place': 'chennai'}"
      ]
     },
     "execution_count": 50,
     "metadata": {},
     "output_type": "execute_result"
    }
   ],
   "source": [
    "a4[\"place\"]=\"chennai\"\n",
    "a4 ## add a keys into a dictionary"
   ]
  },
  {
   "cell_type": "code",
   "execution_count": 51,
   "id": "c4c6cf72-6835-43d5-8c4f-a6e632687113",
   "metadata": {},
   "outputs": [
    {
     "data": {
      "text/plain": [
       "'chennai'"
      ]
     },
     "execution_count": 51,
     "metadata": {},
     "output_type": "execute_result"
    }
   ],
   "source": [
    "a4.pop(\"place\")"
   ]
  },
  {
   "cell_type": "code",
   "execution_count": 52,
   "id": "36fad8d0-4a5f-4772-a9ac-3b2d0c1b8440",
   "metadata": {},
   "outputs": [
    {
     "name": "stdout",
     "output_type": "stream",
     "text": [
      "{'name': 'ajay', 'age': 2}\n"
     ]
    }
   ],
   "source": [
    "print(a4)"
   ]
  },
  {
   "cell_type": "code",
   "execution_count": null,
   "id": "a7c0fe4f-db0d-46cd-a3c6-9d38e5642cb4",
   "metadata": {},
   "outputs": [],
   "source": []
  }
 ],
 "metadata": {
  "kernelspec": {
   "display_name": "Python 3 (ipykernel)",
   "language": "python",
   "name": "python3"
  },
  "language_info": {
   "codemirror_mode": {
    "name": "ipython",
    "version": 3
   },
   "file_extension": ".py",
   "mimetype": "text/x-python",
   "name": "python",
   "nbconvert_exporter": "python",
   "pygments_lexer": "ipython3",
   "version": "3.12.7"
  }
 },
 "nbformat": 4,
 "nbformat_minor": 5
}
